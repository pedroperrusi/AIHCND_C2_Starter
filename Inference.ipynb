{
 "cells": [
  {
   "cell_type": "code",
   "execution_count": 53,
   "metadata": {},
   "outputs": [],
   "source": [
    "import numpy as np # linear algebra\n",
    "import pandas as pd # data processing, CSV file I/O (e.g. pd.read_csv)\n",
    "import os\n",
    "from glob import glob\n",
    "%matplotlib inline\n",
    "import matplotlib.pyplot as plt\n",
    "import pydicom\n",
    "\n",
    "##Import any other stats/DL/ML packages you may need here. E.g. Keras, scikit-learn, etc.\n",
    "from itertools import chain\n",
    "from random import sample \n",
    "\n",
    "# Install a pip package in the current Jupyter kernel\n",
    "import sys\n",
    "# !{sys.executable} -m pip install opencv-python\n",
    "# !{sys.executable} -m pip install --upgrade scikit-learn\n",
    "from cv2 import cv2\n",
    "\n",
    "import sklearn.preprocessing\n",
    "import sklearn.model_selection\n",
    "\n",
    "import skimage\n",
    "\n",
    "import tensorflow as tf\n",
    "import tensorflow.keras.layers\n",
    "from tensorflow.keras.regularizers import l2\n",
    "from tensorflow.keras.preprocessing.image import ImageDataGenerator\n",
    "from tensorflow.keras.layers import GlobalAveragePooling2D, Dense, Dropout, Flatten, Conv2D, MaxPooling2D\n",
    "from tensorflow.keras.models import Sequential, Model\n",
    "from tensorflow.keras.applications.vgg16 import VGG16\n",
    "from tensorflow.keras.applications.resnet import ResNet50\n",
    "from tensorflow.keras.optimizers import Adam\n",
    "from tensorflow.keras.callbacks import ModelCheckpoint, LearningRateScheduler, EarlyStopping, ReduceLROnPlateau"
   ]
  },
  {
   "cell_type": "code",
   "execution_count": 57,
   "metadata": {},
   "outputs": [],
   "source": [
    "# This function reads in a .dcm file, checks the important fields for our device, and returns a numpy array\n",
    "# of just the imaging data\n",
    "def check_dicom(filenames):\n",
    "    dicom_data = []\n",
    "    for img_name in filenames:\n",
    "        print('Load file {} ...'.format(img_name))\n",
    "        dcm = pydicom.dcmread(img_name)\n",
    "        fields = [dcm.PatientID, int(dcm.PatientAge), dcm.PatientSex, dcm.Modality, dcm.StudyDescription, dcm.Rows, dcm.Columns, img_name, dcm.pixel_array]\n",
    "        dicom_data.append(fields)\n",
    "    dicom_df = pd.DataFrame(dicom_data, columns = ['PatientID','PatientAge','PatientSex','Modality','Finding Labels','Rows','Columns', 'Filename', 'Image'])\n",
    "    print(dicom_df)\n",
    "    return dicom_df\n",
    "    \n",
    "    \n",
    "# This function takes the numpy array output by check_dicom and \n",
    "# runs the appropriate pre-processing needed for our model input\n",
    "\n",
    "def clahe_scaling(image):\n",
    "        clahe = cv2.createCLAHE(clipLimit=3, tileGridSize=(16, 16))\n",
    "        return clahe.apply(image)\n",
    "\n",
    "def preprocess_image(src, IMG_SIZE=(224,224), INPUT_SHAPE=(1, 224,224,3)):\n",
    "#     '''Takes an input image and returns a modified version of it'''\n",
    "    dst = cv2.resize(src, IMG_SIZE) / 255\n",
    "    dst = skimage.img_as_ubyte(dst)\n",
    "    dst = clahe_scaling(dst)\n",
    "    dst = skimage.img_as_float(dst)\n",
    "    dst = cv2.cvtColor(dst.astype('float32'), cv2.COLOR_GRAY2RGB ) * 255\n",
    "    return np.broadcast_to(dst, INPUT_SHAPE)\n",
    "\n",
    "# This function loads in our trained model w/ weights and compiles it \n",
    "def load_model(model_path, weight_path):\n",
    "    # load model\n",
    "    model = tensorflow.keras.models.load_model(model_path)\n",
    "    model.load_weights(weight_path)\n",
    "    # summarize model.\n",
    "    print(model.summary())\n",
    "    return model\n",
    "\n",
    "# This function uses our device's threshold parameters to predict whether or not\n",
    "# the image shows the presence of pneumonia using our trained model\n",
    "def predict_image(model, img, thresh): \n",
    "    prediction = my_model.predict(img, verbose = True)\n",
    "    return prediction > thresh"
   ]
  },
  {
   "cell_type": "code",
   "execution_count": 58,
   "outputs": [
    {
     "name": "stdout",
     "output_type": "stream",
     "text": [
      "Model: \"sequential_1\"\n",
      "_________________________________________________________________\n",
      "Layer (type)                 Output Shape              Param #   \n",
      "=================================================================\n",
      "preprocessing (Lambda)       (None, 224, 224, 3)       0         \n",
      "_________________________________________________________________\n",
      "model_1 (Functional)         (None, 2048)              23587712  \n",
      "_________________________________________________________________\n",
      "dense_4 (Dense)              (None, 1024)              2098176   \n",
      "_________________________________________________________________\n",
      "dense_5 (Dense)              (None, 512)               524800    \n",
      "_________________________________________________________________\n",
      "dense_6 (Dense)              (None, 256)               131328    \n",
      "_________________________________________________________________\n",
      "dense_7 (Dense)              (None, 1)                 257       \n",
      "=================================================================\n",
      "Total params: 26,342,273\n",
      "Trainable params: 2,754,561\n",
      "Non-trainable params: 23,587,712\n",
      "_________________________________________________________________\n",
      "None\n"
     ]
    }
   ],
   "source": [
    "my_model = load_model(model_path='my_model', weight_path='xray_class_my_model.best.hdf5')"
   ],
   "metadata": {
    "collapsed": false,
    "pycharm": {
     "name": "#%%\n"
    }
   }
  },
  {
   "cell_type": "code",
   "execution_count": 61,
   "metadata": {},
   "outputs": [
    {
     "name": "stdout",
     "output_type": "stream",
     "text": [
      "Load file test1.dcm ...\n",
      "Load file test2.dcm ...\n",
      "Load file test3.dcm ...\n",
      "Load file test4.dcm ...\n",
      "Load file test5.dcm ...\n",
      "Load file test6.dcm ...\n",
      "  PatientID  PatientAge PatientSex Modality Finding Labels  Rows  Columns  \\\n",
      "0         2          81          M       DX     No Finding  1024     1024   \n",
      "1         1          58          M       DX   Cardiomegaly  1024     1024   \n",
      "2        61          77          M       DX       Effusion  1024     1024   \n",
      "3         2          81          M       DX     No Finding  1024     1024   \n",
      "4         2          81          M       CT     No Finding  1024     1024   \n",
      "5         2          81          M       DX     No Finding  1024     1024   \n",
      "\n",
      "    Filename                                              Image  \n",
      "0  test1.dcm  [[199, 175, 152, 133, 124, 118, 113, 111, 110,...  \n",
      "1  test2.dcm  [[202, 199, 195, 193, 195, 194, 193, 192, 184,...  \n",
      "2  test3.dcm  [[142, 142, 143, 141, 143, 140, 140, 136, 137,...  \n",
      "3  test4.dcm  [[199, 175, 152, 133, 124, 118, 113, 111, 110,...  \n",
      "4  test5.dcm  [[199, 175, 152, 133, 124, 118, 113, 111, 110,...  \n",
      "5  test6.dcm  [[199, 175, 152, 133, 124, 118, 113, 111, 110,...  \n",
      "1/1 [==============================] - 1s 606ms/step\b\b\b\b\b\b\b\b\b\b\b\b\b\b\b\b\b\b\b\b\b\b\b\b\b\b\b\b\b\b\b\b\b\b\b\b\b\b\b\b\n",
      "Predicted: [[False]], findings: No Finding\n",
      "1/1 [==============================] - 0s 16ms/step\b\b\b\b\b\b\b\b\b\b\b\b\b\b\b\b\b\b\b\b\b\b\b\b\b\b\b\b\b\b\b\b\b\b\b\b\b\b\b\b\b\n",
      "Predicted: [[False]], findings: Cardiomegaly\n",
      "1/1 [==============================] - 0s 15ms/step\b\b\b\b\b\b\b\b\b\b\b\b\b\b\b\b\b\b\b\b\b\b\b\b\b\b\b\b\b\b\b\b\b\b\b\b\b\b\b\b\b\n",
      "Predicted: [[False]], findings: Effusion\n",
      "1/1 [==============================] - 0s 20ms/step\b\b\b\b\b\b\b\b\b\b\b\b\b\b\b\b\b\b\b\b\b\b\b\b\b\b\b\b\b\b\b\b\b\b\b\b\b\b\b\b\b\n",
      "Predicted: [[False]], findings: No Finding\n",
      "1/1 [==============================] - 0s 15ms/step\b\b\b\b\b\b\b\b\b\b\b\b\b\b\b\b\b\b\b\b\b\b\b\b\b\b\b\b\b\b\b\b\b\b\b\b\b\b\b\b\b\n",
      "Predicted: [[False]], findings: No Finding\n",
      "1/1 [==============================] - 0s 16ms/step\b\b\b\b\b\b\b\b\b\b\b\b\b\b\b\b\b\b\b\b\b\b\b\b\b\b\b\b\b\b\b\b\b\b\b\b\b\b\b\b\b\n",
      "Predicted: [[False]], findings: No Finding\n"
     ]
    }
   ],
   "source": [
    "test_dicoms = ['test1.dcm','test2.dcm','test3.dcm','test4.dcm','test5.dcm','test6.dcm']\n",
    "dicom_df = check_dicom(test_dicoms)\n",
    "\n",
    "model_path = 'my_model.json'\n",
    "weight_path = 'xray_class_my_model.best.hdf5'\n",
    "\n",
    "IMG_SIZE=(1,224,224,3) # This might be different if you did not use vgg16\n",
    "# img_mean = # loads the mean image value they used during training preprocessing\n",
    "# img_std = # loads the std dev image value they used during training preprocessing\n",
    "\n",
    "# my_model = load_model(model_path, weight_path)\n",
    "my_model.load_weights(weight_path)\n",
    "thresh = 0.6544955\n",
    "\n",
    "# use the .dcm files to test your prediction\n",
    "for index, img_data in dicom_df.iterrows():\n",
    "    img = img_data['Image']\n",
    "    \n",
    "    if img is None:\n",
    "        continue\n",
    "        \n",
    "    img_proc = preprocess_image(img)\n",
    "    pred = predict_image(my_model,img_proc,thresh)\n",
    "    print(f'Predicted: {pred}, findings: {img_data[\"Finding Labels\"]}')\n"
   ]
  },
  {
   "cell_type": "code",
   "execution_count": null,
   "outputs": [],
   "source": [],
   "metadata": {
    "collapsed": false,
    "pycharm": {
     "name": "#%%\n"
    }
   }
  },
  {
   "cell_type": "code",
   "execution_count": null,
   "outputs": [],
   "source": [],
   "metadata": {
    "collapsed": false,
    "pycharm": {
     "name": "#%%\n"
    }
   }
  },
  {
   "cell_type": "code",
   "execution_count": null,
   "outputs": [],
   "source": [],
   "metadata": {
    "collapsed": false,
    "pycharm": {
     "name": "#%%\n"
    }
   }
  }
 ],
 "metadata": {
  "kernelspec": {
   "display_name": "Python 3",
   "language": "python",
   "name": "python3"
  },
  "language_info": {
   "codemirror_mode": {
    "name": "ipython",
    "version": 3
   },
   "file_extension": ".py",
   "mimetype": "text/x-python",
   "name": "python",
   "nbconvert_exporter": "python",
   "pygments_lexer": "ipython3",
   "version": "3.7.6"
  }
 },
 "nbformat": 4,
 "nbformat_minor": 2
}